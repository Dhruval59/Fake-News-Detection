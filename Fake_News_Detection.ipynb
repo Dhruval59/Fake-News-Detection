{
  "cells": [
    {
      "cell_type": "markdown",
      "source": [
        "# Installing Dependencies"
      ],
      "metadata": {
        "id": "Dhb3D71g2kHs"
      }
    },
    {
      "cell_type": "code",
      "source": [
        "!wget http://nlp.stanford.edu/data/glove.6B.zip\n",
        "!unzip -q glove.6B.zip"
      ],
      "metadata": {
        "colab": {
          "base_uri": "https://localhost:8080/"
        },
        "id": "Ez_jwOJ4Vkbi",
        "outputId": "0d184cd7-cbab-4520-af2b-4c8a8b908fb6"
      },
      "execution_count": null,
      "outputs": [
        {
          "output_type": "stream",
          "name": "stdout",
          "text": [
            "--2022-04-05 20:42:33--  http://nlp.stanford.edu/data/glove.6B.zip\n",
            "Resolving nlp.stanford.edu (nlp.stanford.edu)... 171.64.67.140\n",
            "Connecting to nlp.stanford.edu (nlp.stanford.edu)|171.64.67.140|:80... connected.\n",
            "HTTP request sent, awaiting response... 302 Found\n",
            "Location: https://nlp.stanford.edu/data/glove.6B.zip [following]\n",
            "--2022-04-05 20:42:34--  https://nlp.stanford.edu/data/glove.6B.zip\n",
            "Connecting to nlp.stanford.edu (nlp.stanford.edu)|171.64.67.140|:443... connected.\n",
            "HTTP request sent, awaiting response... 301 Moved Permanently\n",
            "Location: http://downloads.cs.stanford.edu/nlp/data/glove.6B.zip [following]\n",
            "--2022-04-05 20:42:34--  http://downloads.cs.stanford.edu/nlp/data/glove.6B.zip\n",
            "Resolving downloads.cs.stanford.edu (downloads.cs.stanford.edu)... 171.64.64.22\n",
            "Connecting to downloads.cs.stanford.edu (downloads.cs.stanford.edu)|171.64.64.22|:80... connected.\n",
            "HTTP request sent, awaiting response... 200 OK\n",
            "Length: 862182613 (822M) [application/zip]\n",
            "Saving to: ‘glove.6B.zip’\n",
            "\n",
            "glove.6B.zip        100%[===================>] 822.24M  4.83MB/s    in 2m 41s  \n",
            "\n",
            "2022-04-05 20:45:16 (5.10 MB/s) - ‘glove.6B.zip’ saved [862182613/862182613]\n",
            "\n"
          ]
        }
      ]
    },
    {
      "cell_type": "code",
      "source": [
        "!pip install wget"
      ],
      "metadata": {
        "id": "2AFny1zmoLkz"
      },
      "execution_count": null,
      "outputs": []
    },
    {
      "cell_type": "code",
      "source": [
        "# common libs\n",
        "import os\n",
        "import wget\n",
        "import gzip\n",
        "import shutil\n",
        "import pandas as pd\n",
        "import numpy as np\n",
        "\n",
        "# tensorflow and keras libs\n",
        "import tensorflow as tf\n",
        "import tensorflow_datasets as tfds \n",
        "from tensorflow import keras\n",
        "from sklearn.metrics import accuracy_score\n",
        "from sklearn.metrics import confusion_matrix as cm\n",
        "from sklearn.metrics import classification_report as cr\n",
        "from sklearn.model_selection import train_test_split\n",
        "from sklearn.linear_model import LogisticRegression\n",
        "from sklearn.svm import SVC\n",
        "from sklearn.naive_bayes import MultinomialNB\n",
        "from sklearn.tree import DecisionTreeClassifier\n",
        "from sklearn.neighbors import KNeighborsClassifier\n",
        "from sklearn.ensemble import RandomForestClassifier\n",
        "from sklearn.model_selection import train_test_split\n",
        "from sklearn.preprocessing import StandardScaler, MinMaxScaler\n",
        "from keras.callbacks import EarlyStopping\n",
        "from tensorflow.keras.layers import TextVectorization, Conv1D, Dense, Softmax, MaxPooling1D, GlobalMaxPooling1D, Dropout, Embedding\n",
        "from tensorflow.data import Dataset\n",
        "from tensorflow.keras import layers, Input, Model\n",
        "from xgboost import XGBRegressor\n",
        "\n",
        "# visvalisation libs\n",
        "import matplotlib.pyplot as plt\n",
        "import seaborn as sn\n",
        "!pip install visualkeras\n",
        "import visualkeras\n",
        "\n",
        "# NLP libs\n",
        "from tokenizers import BertWordPieceTokenizer\n",
        "from transformers import BertTokenizer, TFBertModel, BertConfig\n",
        "import string\n",
        "import nltk\n",
        "from nltk.corpus import stopwords\n",
        "nltk.download('popular')"
      ],
      "metadata": {
        "id": "M4zafnhb2-Hq",
        "colab": {
          "base_uri": "https://localhost:8080/"
        },
        "outputId": "39c9a101-7b3c-422c-9ea7-179d794a9f4f"
      },
      "execution_count": null,
      "outputs": [
        {
          "output_type": "stream",
          "name": "stdout",
          "text": [
            "Collecting visualkeras\n",
            "  Downloading visualkeras-0.0.2-py3-none-any.whl (12 kB)\n",
            "Requirement already satisfied: pillow>=6.2.0 in /usr/local/lib/python3.7/dist-packages (from visualkeras) (7.1.2)\n",
            "Collecting aggdraw>=1.3.11\n",
            "  Downloading aggdraw-1.3.14-cp37-cp37m-manylinux_2_17_x86_64.manylinux2014_x86_64.whl (992 kB)\n",
            "\u001b[K     |████████████████████████████████| 992 kB 4.0 MB/s \n",
            "\u001b[?25hRequirement already satisfied: numpy>=1.18.1 in /usr/local/lib/python3.7/dist-packages (from visualkeras) (1.21.5)\n",
            "Installing collected packages: aggdraw, visualkeras\n",
            "Successfully installed aggdraw-1.3.14 visualkeras-0.0.2\n",
            "[nltk_data] Downloading collection 'popular'\n",
            "[nltk_data]    | \n",
            "[nltk_data]    | Downloading package cmudict to /root/nltk_data...\n",
            "[nltk_data]    |   Package cmudict is already up-to-date!\n",
            "[nltk_data]    | Downloading package gazetteers to /root/nltk_data...\n",
            "[nltk_data]    |   Package gazetteers is already up-to-date!\n",
            "[nltk_data]    | Downloading package genesis to /root/nltk_data...\n",
            "[nltk_data]    |   Package genesis is already up-to-date!\n",
            "[nltk_data]    | Downloading package gutenberg to /root/nltk_data...\n",
            "[nltk_data]    |   Package gutenberg is already up-to-date!\n",
            "[nltk_data]    | Downloading package inaugural to /root/nltk_data...\n",
            "[nltk_data]    |   Package inaugural is already up-to-date!\n",
            "[nltk_data]    | Downloading package movie_reviews to\n",
            "[nltk_data]    |     /root/nltk_data...\n",
            "[nltk_data]    |   Package movie_reviews is already up-to-date!\n",
            "[nltk_data]    | Downloading package names to /root/nltk_data...\n",
            "[nltk_data]    |   Package names is already up-to-date!\n",
            "[nltk_data]    | Downloading package shakespeare to /root/nltk_data...\n",
            "[nltk_data]    |   Package shakespeare is already up-to-date!\n",
            "[nltk_data]    | Downloading package stopwords to /root/nltk_data...\n",
            "[nltk_data]    |   Package stopwords is already up-to-date!\n",
            "[nltk_data]    | Downloading package treebank to /root/nltk_data...\n",
            "[nltk_data]    |   Package treebank is already up-to-date!\n",
            "[nltk_data]    | Downloading package twitter_samples to\n",
            "[nltk_data]    |     /root/nltk_data...\n",
            "[nltk_data]    |   Package twitter_samples is already up-to-date!\n",
            "[nltk_data]    | Downloading package omw to /root/nltk_data...\n",
            "[nltk_data]    |   Package omw is already up-to-date!\n",
            "[nltk_data]    | Downloading package omw-1.4 to /root/nltk_data...\n",
            "[nltk_data]    |   Package omw-1.4 is already up-to-date!\n",
            "[nltk_data]    | Downloading package wordnet to /root/nltk_data...\n",
            "[nltk_data]    |   Package wordnet is already up-to-date!\n",
            "[nltk_data]    | Downloading package wordnet2021 to /root/nltk_data...\n",
            "[nltk_data]    |   Package wordnet2021 is already up-to-date!\n",
            "[nltk_data]    | Downloading package wordnet31 to /root/nltk_data...\n",
            "[nltk_data]    |   Package wordnet31 is already up-to-date!\n",
            "[nltk_data]    | Downloading package wordnet_ic to /root/nltk_data...\n",
            "[nltk_data]    |   Package wordnet_ic is already up-to-date!\n",
            "[nltk_data]    | Downloading package words to /root/nltk_data...\n",
            "[nltk_data]    |   Package words is already up-to-date!\n",
            "[nltk_data]    | Downloading package maxent_ne_chunker to\n",
            "[nltk_data]    |     /root/nltk_data...\n",
            "[nltk_data]    |   Package maxent_ne_chunker is already up-to-date!\n",
            "[nltk_data]    | Downloading package punkt to /root/nltk_data...\n",
            "[nltk_data]    |   Package punkt is already up-to-date!\n",
            "[nltk_data]    | Downloading package snowball_data to\n",
            "[nltk_data]    |     /root/nltk_data...\n",
            "[nltk_data]    |   Package snowball_data is already up-to-date!\n",
            "[nltk_data]    | Downloading package averaged_perceptron_tagger to\n",
            "[nltk_data]    |     /root/nltk_data...\n",
            "[nltk_data]    |   Package averaged_perceptron_tagger is already up-\n",
            "[nltk_data]    |       to-date!\n",
            "[nltk_data]    | \n",
            "[nltk_data]  Done downloading collection popular\n"
          ]
        },
        {
          "output_type": "execute_result",
          "data": {
            "text/plain": [
              "True"
            ]
          },
          "metadata": {},
          "execution_count": 89
        }
      ]
    },
    {
      "cell_type": "markdown",
      "source": [
        "# Importing Datasets"
      ],
      "metadata": {
        "id": "0kxk77MH2oQ9"
      }
    },
    {
      "cell_type": "markdown",
      "source": [
        "## Connecting google drive and kaggle\n",
        "\n",
        "---\n",
        "\n"
      ],
      "metadata": {
        "id": "kQNiUNVg2rXZ"
      }
    },
    {
      "cell_type": "code",
      "execution_count": null,
      "metadata": {
        "colab": {
          "base_uri": "https://localhost:8080/"
        },
        "id": "b0L7PS-JRcys",
        "outputId": "3c9a56d1-68a6-4e1c-9c9c-42fb445d3355"
      },
      "outputs": [
        {
          "output_type": "stream",
          "name": "stdout",
          "text": [
            "Mounted at /content/drive\n"
          ]
        }
      ],
      "source": [
        "from google.colab import drive\n",
        "drive.mount('/content/drive')"
      ]
    },
    {
      "cell_type": "code",
      "execution_count": null,
      "metadata": {
        "colab": {
          "base_uri": "https://localhost:8080/"
        },
        "id": "HuIwxWHjR5Ut",
        "outputId": "72f812c9-291d-4f19-c192-282d275fe59d"
      },
      "outputs": [
        {
          "output_type": "stream",
          "name": "stdout",
          "text": [
            "Requirement already satisfied: kaggle in /usr/local/lib/python3.7/dist-packages (1.5.12)\n",
            "Requirement already satisfied: six>=1.10 in /usr/local/lib/python3.7/dist-packages (from kaggle) (1.15.0)\n",
            "Requirement already satisfied: tqdm in /usr/local/lib/python3.7/dist-packages (from kaggle) (4.63.0)\n",
            "Requirement already satisfied: certifi in /usr/local/lib/python3.7/dist-packages (from kaggle) (2021.10.8)\n",
            "Requirement already satisfied: requests in /usr/local/lib/python3.7/dist-packages (from kaggle) (2.23.0)\n",
            "Requirement already satisfied: urllib3 in /usr/local/lib/python3.7/dist-packages (from kaggle) (1.24.3)\n",
            "Requirement already satisfied: python-dateutil in /usr/local/lib/python3.7/dist-packages (from kaggle) (2.8.2)\n",
            "Requirement already satisfied: python-slugify in /usr/local/lib/python3.7/dist-packages (from kaggle) (6.1.1)\n",
            "Requirement already satisfied: text-unidecode>=1.3 in /usr/local/lib/python3.7/dist-packages (from python-slugify->kaggle) (1.3)\n",
            "Requirement already satisfied: idna<3,>=2.5 in /usr/local/lib/python3.7/dist-packages (from requests->kaggle) (2.10)\n",
            "Requirement already satisfied: chardet<4,>=3.0.2 in /usr/local/lib/python3.7/dist-packages (from requests->kaggle) (3.0.4)\n"
          ]
        }
      ],
      "source": [
        "!pip install kaggle"
      ]
    },
    {
      "cell_type": "code",
      "execution_count": null,
      "metadata": {
        "colab": {
          "base_uri": "https://localhost:8080/"
        },
        "id": "W4Ud2GVRSPwY",
        "outputId": "e1157d7d-9a15-4653-cf50-973562df4821"
      },
      "outputs": [
        {
          "output_type": "stream",
          "name": "stdout",
          "text": [
            "/root/.kaggle\n"
          ]
        }
      ],
      "source": [
        "!mkdir /root/.kaggle\n",
        "%cd /root/.kaggle\n",
        "!ls"
      ]
    },
    {
      "cell_type": "code",
      "execution_count": null,
      "metadata": {
        "id": "lPvAlfCKRpoc"
      },
      "outputs": [],
      "source": [
        "!cp /content/drive/MyDrive/kaggle.json /root/.kaggle/\n",
        "!chmod 600 /root/.kaggle/kaggle.json"
      ]
    },
    {
      "cell_type": "markdown",
      "source": [
        "## Importing ISOT Dataset [1]"
      ],
      "metadata": {
        "id": "QYybjoSQ2v8H"
      }
    },
    {
      "cell_type": "code",
      "execution_count": null,
      "metadata": {
        "colab": {
          "base_uri": "https://localhost:8080/"
        },
        "id": "hohfNpleUHzP",
        "outputId": "51d59ca1-f5a6-4f77-e2ca-467e02a53202"
      },
      "outputs": [
        {
          "output_type": "stream",
          "name": "stdout",
          "text": [
            "/content\n",
            "Downloading isot-fake-news-dataset.zip to /content\n",
            " 81% 33.0M/41.0M [00:00<00:00, 41.6MB/s]\n",
            "100% 41.0M/41.0M [00:00<00:00, 43.1MB/s]\n"
          ]
        }
      ],
      "source": [
        "%cd /content/\n",
        "!kaggle datasets download -d csmalarkodi/isot-fake-news-dataset"
      ]
    },
    {
      "cell_type": "code",
      "execution_count": null,
      "metadata": {
        "colab": {
          "base_uri": "https://localhost:8080/"
        },
        "id": "006PnAR0USh-",
        "outputId": "06772fed-3e51-4699-bf98-f386023a8b45"
      },
      "outputs": [
        {
          "output_type": "stream",
          "name": "stdout",
          "text": [
            "Archive:  isot-fake-news-dataset.zip\n",
            "  inflating: Fake.csv                \n",
            "  inflating: True.csv                \n"
          ]
        }
      ],
      "source": [
        "!unzip isot-fake-news-dataset.zip"
      ]
    },
    {
      "cell_type": "markdown",
      "source": [
        "## Importing Dataset DS1 [2]"
      ],
      "metadata": {
        "id": "YiOsDakO21qA"
      }
    },
    {
      "cell_type": "code",
      "source": [
        "%cd /content/\n",
        "!kaggle datasets download -d jruvika/fake-news-detection"
      ],
      "metadata": {
        "colab": {
          "base_uri": "https://localhost:8080/"
        },
        "id": "hAksbdrP2TLF",
        "outputId": "4391cb43-d815-4896-b7f4-99aa4bfe3984"
      },
      "execution_count": null,
      "outputs": [
        {
          "output_type": "stream",
          "name": "stdout",
          "text": [
            "/content\n",
            "Downloading fake-news-detection.zip to /content\n",
            "100% 4.89M/4.89M [00:00<00:00, 23.4MB/s]\n",
            "100% 4.89M/4.89M [00:00<00:00, 23.3MB/s]\n"
          ]
        }
      ]
    },
    {
      "cell_type": "code",
      "source": [
        "!unzip fake-news-detection.zip"
      ],
      "metadata": {
        "colab": {
          "base_uri": "https://localhost:8080/"
        },
        "id": "CqftvEKW3FKl",
        "outputId": "c97356d9-5166-4c53-86bf-719f1dcdd2ee"
      },
      "execution_count": null,
      "outputs": [
        {
          "output_type": "stream",
          "name": "stdout",
          "text": [
            "Archive:  fake-news-detection.zip\n",
            "  inflating: data.csv                \n",
            "  inflating: data.h5                 \n"
          ]
        }
      ]
    },
    {
      "cell_type": "markdown",
      "source": [
        "## Importing Dataset DS2 [3]"
      ],
      "metadata": {
        "id": "7obx9n8M264_"
      }
    },
    {
      "cell_type": "code",
      "source": [
        "%cd /content/\n",
        "!kaggle competitions download -c fake-news"
      ],
      "metadata": {
        "colab": {
          "base_uri": "https://localhost:8080/"
        },
        "id": "ozXuAdI23YnM",
        "outputId": "ab548e5b-72bf-4df8-af3f-f1cd570d2bfc"
      },
      "execution_count": null,
      "outputs": [
        {
          "output_type": "stream",
          "name": "stdout",
          "text": [
            "/content\n",
            "Downloading fake-news.zip to /content\n",
            " 71% 33.0M/46.5M [00:01<00:00, 22.9MB/s]\n",
            "100% 46.5M/46.5M [00:01<00:00, 25.8MB/s]\n"
          ]
        }
      ]
    },
    {
      "cell_type": "code",
      "source": [
        "!unzip fake-news.zip"
      ],
      "metadata": {
        "colab": {
          "base_uri": "https://localhost:8080/"
        },
        "id": "ymlNPBOD3gFF",
        "outputId": "741fb891-a670-4ca2-cc86-f403f7823f3a"
      },
      "execution_count": null,
      "outputs": [
        {
          "output_type": "stream",
          "name": "stdout",
          "text": [
            "Archive:  fake-news.zip\n",
            "  inflating: submit.csv              \n",
            "  inflating: test.csv                \n",
            "  inflating: train.csv               \n"
          ]
        }
      ]
    },
    {
      "cell_type": "markdown",
      "source": [
        "# Preprocessing"
      ],
      "metadata": {
        "id": "jGeq_E8r3ZiA"
      }
    },
    {
      "cell_type": "markdown",
      "source": [
        "## Generalising the dataset attributes"
      ],
      "metadata": {
        "id": "3BshZ3zj4-0F"
      }
    },
    {
      "cell_type": "markdown",
      "source": [
        "### Building unified ISOT dataset"
      ],
      "metadata": {
        "id": "OwRrIyQi5bxR"
      }
    },
    {
      "cell_type": "code",
      "execution_count": null,
      "metadata": {
        "id": "VIptCsUeUlbH",
        "colab": {
          "base_uri": "https://localhost:8080/"
        },
        "outputId": "87a75cef-24b2-4c30-c8ff-5a2bb05a5020"
      },
      "outputs": [
        {
          "output_type": "execute_result",
          "data": {
            "text/plain": [
              "                                                   title  \\\n",
              "24871  DO YOU WANT TO SAVE AMERICA FROM HILLARY? Shar...   \n",
              "27532  CNBC DEBATE HACK Proves Allegiance To Democrat...   \n",
              "6114   Turkey opens military base in Mogadishu to tra...   \n",
              "7099          For Trump, it was the lost art of the deal   \n",
              "2951   Despite vow, Trump Organization not tracking a...   \n",
              "\n",
              "                                                    text  \n",
              "24871  WATCH: Even her friends on the Left appear to ...  \n",
              "27532  By looking at the two Democrat presidential ca...  \n",
              "6114   MOGADISHU/ANKARA (Reuters) - Turkey opened its...  \n",
              "7099   WASHINGTON (Reuters) - In the end, the Closer ...  \n",
              "2951   WASHINGTON (Reuters) - President Donald Trump’...  "
            ],
            "text/html": [
              "\n",
              "  <div id=\"df-2ea678b5-cfa6-4262-adc2-498bd81668dd\">\n",
              "    <div class=\"colab-df-container\">\n",
              "      <div>\n",
              "<style scoped>\n",
              "    .dataframe tbody tr th:only-of-type {\n",
              "        vertical-align: middle;\n",
              "    }\n",
              "\n",
              "    .dataframe tbody tr th {\n",
              "        vertical-align: top;\n",
              "    }\n",
              "\n",
              "    .dataframe thead th {\n",
              "        text-align: right;\n",
              "    }\n",
              "</style>\n",
              "<table border=\"1\" class=\"dataframe\">\n",
              "  <thead>\n",
              "    <tr style=\"text-align: right;\">\n",
              "      <th></th>\n",
              "      <th>title</th>\n",
              "      <th>text</th>\n",
              "    </tr>\n",
              "  </thead>\n",
              "  <tbody>\n",
              "    <tr>\n",
              "      <th>24871</th>\n",
              "      <td>DO YOU WANT TO SAVE AMERICA FROM HILLARY? Shar...</td>\n",
              "      <td>WATCH: Even her friends on the Left appear to ...</td>\n",
              "    </tr>\n",
              "    <tr>\n",
              "      <th>27532</th>\n",
              "      <td>CNBC DEBATE HACK Proves Allegiance To Democrat...</td>\n",
              "      <td>By looking at the two Democrat presidential ca...</td>\n",
              "    </tr>\n",
              "    <tr>\n",
              "      <th>6114</th>\n",
              "      <td>Turkey opens military base in Mogadishu to tra...</td>\n",
              "      <td>MOGADISHU/ANKARA (Reuters) - Turkey opened its...</td>\n",
              "    </tr>\n",
              "    <tr>\n",
              "      <th>7099</th>\n",
              "      <td>For Trump, it was the lost art of the deal</td>\n",
              "      <td>WASHINGTON (Reuters) - In the end, the Closer ...</td>\n",
              "    </tr>\n",
              "    <tr>\n",
              "      <th>2951</th>\n",
              "      <td>Despite vow, Trump Organization not tracking a...</td>\n",
              "      <td>WASHINGTON (Reuters) - President Donald Trump’...</td>\n",
              "    </tr>\n",
              "  </tbody>\n",
              "</table>\n",
              "</div>\n",
              "      <button class=\"colab-df-convert\" onclick=\"convertToInteractive('df-2ea678b5-cfa6-4262-adc2-498bd81668dd')\"\n",
              "              title=\"Convert this dataframe to an interactive table.\"\n",
              "              style=\"display:none;\">\n",
              "        \n",
              "  <svg xmlns=\"http://www.w3.org/2000/svg\" height=\"24px\"viewBox=\"0 0 24 24\"\n",
              "       width=\"24px\">\n",
              "    <path d=\"M0 0h24v24H0V0z\" fill=\"none\"/>\n",
              "    <path d=\"M18.56 5.44l.94 2.06.94-2.06 2.06-.94-2.06-.94-.94-2.06-.94 2.06-2.06.94zm-11 1L8.5 8.5l.94-2.06 2.06-.94-2.06-.94L8.5 2.5l-.94 2.06-2.06.94zm10 10l.94 2.06.94-2.06 2.06-.94-2.06-.94-.94-2.06-.94 2.06-2.06.94z\"/><path d=\"M17.41 7.96l-1.37-1.37c-.4-.4-.92-.59-1.43-.59-.52 0-1.04.2-1.43.59L10.3 9.45l-7.72 7.72c-.78.78-.78 2.05 0 2.83L4 21.41c.39.39.9.59 1.41.59.51 0 1.02-.2 1.41-.59l7.78-7.78 2.81-2.81c.8-.78.8-2.07 0-2.86zM5.41 20L4 18.59l7.72-7.72 1.47 1.35L5.41 20z\"/>\n",
              "  </svg>\n",
              "      </button>\n",
              "      \n",
              "  <style>\n",
              "    .colab-df-container {\n",
              "      display:flex;\n",
              "      flex-wrap:wrap;\n",
              "      gap: 12px;\n",
              "    }\n",
              "\n",
              "    .colab-df-convert {\n",
              "      background-color: #E8F0FE;\n",
              "      border: none;\n",
              "      border-radius: 50%;\n",
              "      cursor: pointer;\n",
              "      display: none;\n",
              "      fill: #1967D2;\n",
              "      height: 32px;\n",
              "      padding: 0 0 0 0;\n",
              "      width: 32px;\n",
              "    }\n",
              "\n",
              "    .colab-df-convert:hover {\n",
              "      background-color: #E2EBFA;\n",
              "      box-shadow: 0px 1px 2px rgba(60, 64, 67, 0.3), 0px 1px 3px 1px rgba(60, 64, 67, 0.15);\n",
              "      fill: #174EA6;\n",
              "    }\n",
              "\n",
              "    [theme=dark] .colab-df-convert {\n",
              "      background-color: #3B4455;\n",
              "      fill: #D2E3FC;\n",
              "    }\n",
              "\n",
              "    [theme=dark] .colab-df-convert:hover {\n",
              "      background-color: #434B5C;\n",
              "      box-shadow: 0px 1px 3px 1px rgba(0, 0, 0, 0.15);\n",
              "      filter: drop-shadow(0px 1px 2px rgba(0, 0, 0, 0.3));\n",
              "      fill: #FFFFFF;\n",
              "    }\n",
              "  </style>\n",
              "\n",
              "      <script>\n",
              "        const buttonEl =\n",
              "          document.querySelector('#df-2ea678b5-cfa6-4262-adc2-498bd81668dd button.colab-df-convert');\n",
              "        buttonEl.style.display =\n",
              "          google.colab.kernel.accessAllowed ? 'block' : 'none';\n",
              "\n",
              "        async function convertToInteractive(key) {\n",
              "          const element = document.querySelector('#df-2ea678b5-cfa6-4262-adc2-498bd81668dd');\n",
              "          const dataTable =\n",
              "            await google.colab.kernel.invokeFunction('convertToInteractive',\n",
              "                                                     [key], {});\n",
              "          if (!dataTable) return;\n",
              "\n",
              "          const docLinkHtml = 'Like what you see? Visit the ' +\n",
              "            '<a target=\"_blank\" href=https://colab.research.google.com/notebooks/data_table.ipynb>data table notebook</a>'\n",
              "            + ' to learn more about interactive tables.';\n",
              "          element.innerHTML = '';\n",
              "          dataTable['output_type'] = 'display_data';\n",
              "          await google.colab.output.renderOutput(dataTable, element);\n",
              "          const docLink = document.createElement('div');\n",
              "          docLink.innerHTML = docLinkHtml;\n",
              "          element.appendChild(docLink);\n",
              "        }\n",
              "      </script>\n",
              "    </div>\n",
              "  </div>\n",
              "  "
            ]
          },
          "metadata": {},
          "execution_count": 14
        }
      ],
      "source": [
        "fake = pd.read_csv('/content/Fake.csv')\n",
        "fake.insert(loc=fake.columns.get_loc('date')+1,\n",
        "          column='label',\n",
        "          value=0)\n",
        "true = pd.read_csv('/content/True.csv')\n",
        "true.insert(loc=fake.columns.get_loc('date')+1,\n",
        "          column='label',\n",
        "          value=1)\n",
        "isot_df = pd.concat([fake,true])\n",
        "isot_df = isot_df.sample(frac=1, random_state=42).reset_index(drop=True)\n",
        "isot_df = isot_df.drop(columns=['subject', 'date'])\n",
        "\n",
        "X_train_isot, X_test_isot, y_train_isot, y_test_isot = train_test_split(isot_df[['title','text']], isot_df['label'], test_size=0.33)\n",
        "X_train_isot.head(5)"
      ]
    },
    {
      "cell_type": "markdown",
      "source": [
        "### Building DS1 dataset"
      ],
      "metadata": {
        "id": "3pAOO0up5w72"
      }
    },
    {
      "cell_type": "code",
      "source": [
        "ds1 = pd.read_csv(\"data.csv\")\n",
        "ds1 = ds1.drop(columns=['URLs'])\n",
        "ds1.rename(columns={'Headline': 'title'}, inplace=True)\n",
        "ds1.rename(columns={'Body': 'text'}, inplace=True)\n",
        "ds1.rename(columns={'Label': 'label'}, inplace=True)\n",
        "ds1 = ds1.sample(frac=1, random_state=42).reset_index(drop=True)\n",
        "\n",
        "X_train_ds1, X_test_ds1, y_train_ds1, y_test_ds1 = train_test_split(ds1[['title','text']], ds1['label'], test_size=0.33)\n",
        "X_train_ds1.head()"
      ],
      "metadata": {
        "colab": {
          "base_uri": "https://localhost:8080/",
          "height": 206
        },
        "id": "xmqJUesq5v5w",
        "outputId": "952c3794-fbf9-428f-b2bb-d52730e7dc04"
      },
      "execution_count": null,
      "outputs": [
        {
          "output_type": "execute_result",
          "data": {
            "text/plain": [
              "                                                  title  \\\n",
              "828   Kim Wall: Divers find head, legs of missing jo...   \n",
              "2758  10/7 Post-Season: Bad Day at the Shop...0-for-...   \n",
              "2667  US Navy is running a black project to detect A...   \n",
              "1019  10/1 TRS-PNC Era: Wildcard Win, TRS Closes, Fr...   \n",
              "690   Nunes signs off on new subpoenas to firm behin...   \n",
              "\n",
              "                                                   text  \n",
              "828   Copenhagen, Denmark (CNN) Divers have found th...  \n",
              "2758  An Embattled Pharmaceutical Company That Sells...  \n",
              "2667  An expert in UFOs has said that the US Navy is...  \n",
              "1019  A Potato Battery Can Light up a Room for Over ...  \n",
              "690   (CNN) The chairman of the House intelligence c...  "
            ],
            "text/html": [
              "\n",
              "  <div id=\"df-021b0d79-e6a7-45b8-b828-4654470d70f5\">\n",
              "    <div class=\"colab-df-container\">\n",
              "      <div>\n",
              "<style scoped>\n",
              "    .dataframe tbody tr th:only-of-type {\n",
              "        vertical-align: middle;\n",
              "    }\n",
              "\n",
              "    .dataframe tbody tr th {\n",
              "        vertical-align: top;\n",
              "    }\n",
              "\n",
              "    .dataframe thead th {\n",
              "        text-align: right;\n",
              "    }\n",
              "</style>\n",
              "<table border=\"1\" class=\"dataframe\">\n",
              "  <thead>\n",
              "    <tr style=\"text-align: right;\">\n",
              "      <th></th>\n",
              "      <th>title</th>\n",
              "      <th>text</th>\n",
              "    </tr>\n",
              "  </thead>\n",
              "  <tbody>\n",
              "    <tr>\n",
              "      <th>828</th>\n",
              "      <td>Kim Wall: Divers find head, legs of missing jo...</td>\n",
              "      <td>Copenhagen, Denmark (CNN) Divers have found th...</td>\n",
              "    </tr>\n",
              "    <tr>\n",
              "      <th>2758</th>\n",
              "      <td>10/7 Post-Season: Bad Day at the Shop...0-for-...</td>\n",
              "      <td>An Embattled Pharmaceutical Company That Sells...</td>\n",
              "    </tr>\n",
              "    <tr>\n",
              "      <th>2667</th>\n",
              "      <td>US Navy is running a black project to detect A...</td>\n",
              "      <td>An expert in UFOs has said that the US Navy is...</td>\n",
              "    </tr>\n",
              "    <tr>\n",
              "      <th>1019</th>\n",
              "      <td>10/1 TRS-PNC Era: Wildcard Win, TRS Closes, Fr...</td>\n",
              "      <td>A Potato Battery Can Light up a Room for Over ...</td>\n",
              "    </tr>\n",
              "    <tr>\n",
              "      <th>690</th>\n",
              "      <td>Nunes signs off on new subpoenas to firm behin...</td>\n",
              "      <td>(CNN) The chairman of the House intelligence c...</td>\n",
              "    </tr>\n",
              "  </tbody>\n",
              "</table>\n",
              "</div>\n",
              "      <button class=\"colab-df-convert\" onclick=\"convertToInteractive('df-021b0d79-e6a7-45b8-b828-4654470d70f5')\"\n",
              "              title=\"Convert this dataframe to an interactive table.\"\n",
              "              style=\"display:none;\">\n",
              "        \n",
              "  <svg xmlns=\"http://www.w3.org/2000/svg\" height=\"24px\"viewBox=\"0 0 24 24\"\n",
              "       width=\"24px\">\n",
              "    <path d=\"M0 0h24v24H0V0z\" fill=\"none\"/>\n",
              "    <path d=\"M18.56 5.44l.94 2.06.94-2.06 2.06-.94-2.06-.94-.94-2.06-.94 2.06-2.06.94zm-11 1L8.5 8.5l.94-2.06 2.06-.94-2.06-.94L8.5 2.5l-.94 2.06-2.06.94zm10 10l.94 2.06.94-2.06 2.06-.94-2.06-.94-.94-2.06-.94 2.06-2.06.94z\"/><path d=\"M17.41 7.96l-1.37-1.37c-.4-.4-.92-.59-1.43-.59-.52 0-1.04.2-1.43.59L10.3 9.45l-7.72 7.72c-.78.78-.78 2.05 0 2.83L4 21.41c.39.39.9.59 1.41.59.51 0 1.02-.2 1.41-.59l7.78-7.78 2.81-2.81c.8-.78.8-2.07 0-2.86zM5.41 20L4 18.59l7.72-7.72 1.47 1.35L5.41 20z\"/>\n",
              "  </svg>\n",
              "      </button>\n",
              "      \n",
              "  <style>\n",
              "    .colab-df-container {\n",
              "      display:flex;\n",
              "      flex-wrap:wrap;\n",
              "      gap: 12px;\n",
              "    }\n",
              "\n",
              "    .colab-df-convert {\n",
              "      background-color: #E8F0FE;\n",
              "      border: none;\n",
              "      border-radius: 50%;\n",
              "      cursor: pointer;\n",
              "      display: none;\n",
              "      fill: #1967D2;\n",
              "      height: 32px;\n",
              "      padding: 0 0 0 0;\n",
              "      width: 32px;\n",
              "    }\n",
              "\n",
              "    .colab-df-convert:hover {\n",
              "      background-color: #E2EBFA;\n",
              "      box-shadow: 0px 1px 2px rgba(60, 64, 67, 0.3), 0px 1px 3px 1px rgba(60, 64, 67, 0.15);\n",
              "      fill: #174EA6;\n",
              "    }\n",
              "\n",
              "    [theme=dark] .colab-df-convert {\n",
              "      background-color: #3B4455;\n",
              "      fill: #D2E3FC;\n",
              "    }\n",
              "\n",
              "    [theme=dark] .colab-df-convert:hover {\n",
              "      background-color: #434B5C;\n",
              "      box-shadow: 0px 1px 3px 1px rgba(0, 0, 0, 0.15);\n",
              "      filter: drop-shadow(0px 1px 2px rgba(0, 0, 0, 0.3));\n",
              "      fill: #FFFFFF;\n",
              "    }\n",
              "  </style>\n",
              "\n",
              "      <script>\n",
              "        const buttonEl =\n",
              "          document.querySelector('#df-021b0d79-e6a7-45b8-b828-4654470d70f5 button.colab-df-convert');\n",
              "        buttonEl.style.display =\n",
              "          google.colab.kernel.accessAllowed ? 'block' : 'none';\n",
              "\n",
              "        async function convertToInteractive(key) {\n",
              "          const element = document.querySelector('#df-021b0d79-e6a7-45b8-b828-4654470d70f5');\n",
              "          const dataTable =\n",
              "            await google.colab.kernel.invokeFunction('convertToInteractive',\n",
              "                                                     [key], {});\n",
              "          if (!dataTable) return;\n",
              "\n",
              "          const docLinkHtml = 'Like what you see? Visit the ' +\n",
              "            '<a target=\"_blank\" href=https://colab.research.google.com/notebooks/data_table.ipynb>data table notebook</a>'\n",
              "            + ' to learn more about interactive tables.';\n",
              "          element.innerHTML = '';\n",
              "          dataTable['output_type'] = 'display_data';\n",
              "          await google.colab.output.renderOutput(dataTable, element);\n",
              "          const docLink = document.createElement('div');\n",
              "          docLink.innerHTML = docLinkHtml;\n",
              "          element.appendChild(docLink);\n",
              "        }\n",
              "      </script>\n",
              "    </div>\n",
              "  </div>\n",
              "  "
            ]
          },
          "metadata": {},
          "execution_count": 22
        }
      ]
    },
    {
      "cell_type": "markdown",
      "source": [
        "### Building DS2 dataset"
      ],
      "metadata": {
        "id": "cVlQPZG86jkx"
      }
    },
    {
      "cell_type": "code",
      "source": [
        "ds2_train = pd.read_csv(\"train.csv\")\n",
        "ds2_test = pd.read_csv(\"test.csv\")\n",
        "\n",
        "ds2_train = ds2_train.drop(columns=['author','id'])\n",
        "ds2_test = ds2_test.drop(columns=['author','id'])\n",
        "\n",
        "train_X_ds2 = ds2_train[['title','text']]\n",
        "test_X_ds2 = ds2_test[['title','text']]\n",
        "\n",
        "train_Y_ds2 = ds2_train['label']\n",
        "test_Y_ds2 = ds2_test['label']\n",
        "\n",
        "test_X_ds2.head()"
      ],
      "metadata": {
        "id": "qeMqayHU6nVY"
      },
      "execution_count": null,
      "outputs": []
    },
    {
      "cell_type": "markdown",
      "source": [
        "## Merging the dataset"
      ],
      "metadata": {
        "id": "-WvcaMTDSTxd"
      }
    },
    {
      "cell_type": "code",
      "source": [
        "train_X = pd.DataFrame(columns=['title', 'text'])\n",
        "train_X = train_X.append([X_train_isot, X_train_ds1, train_X_ds2])\n",
        "train_Y = pd.concat([y_train_isot, y_train_ds1, train_Y_ds2])\n",
        "test_X = pd.concat([X_test_isot, X_test_ds1, test_X_ds2])\n",
        "test_Y = pd.concat([y_test_isot, y_test_ds1, test_Y_ds2])\n",
        "train_Y.shape"
      ],
      "metadata": {
        "colab": {
          "base_uri": "https://localhost:8080/"
        },
        "id": "UYJXNJ7xb2AK",
        "outputId": "795024c2-82d2-485f-9e0e-e015fbdb6e1a"
      },
      "execution_count": null,
      "outputs": [
        {
          "output_type": "execute_result",
          "data": {
            "text/plain": [
              "(32767,)"
            ]
          },
          "metadata": {},
          "execution_count": 23
        }
      ]
    },
    {
      "cell_type": "code",
      "source": [
        "true_count = train_Y.value_counts()\n",
        "true_count"
      ],
      "metadata": {
        "colab": {
          "base_uri": "https://localhost:8080/"
        },
        "id": "yyBZIOLCyAzi",
        "outputId": "54e0933b-68e4-42e3-e657-635913f1ea54"
      },
      "execution_count": null,
      "outputs": [
        {
          "output_type": "execute_result",
          "data": {
            "text/plain": [
              "0    17127\n",
              "1    15640\n",
              "Name: label, dtype: int64"
            ]
          },
          "metadata": {},
          "execution_count": 103
        }
      ]
    },
    {
      "cell_type": "markdown",
      "source": [
        "## Removing unwanted characters"
      ],
      "metadata": {
        "id": "LX_-aPBJ6nqf"
      }
    },
    {
      "cell_type": "code",
      "execution_count": null,
      "metadata": {
        "id": "L5GsFNf62Irn",
        "colab": {
          "base_uri": "https://localhost:8080/"
        },
        "outputId": "cd149639-bdfb-4e22-b5df-70d77dc4e918"
      },
      "outputs": [
        {
          "output_type": "stream",
          "name": "stderr",
          "text": [
            "/usr/local/lib/python3.7/dist-packages/ipykernel_launcher.py:7: FutureWarning: The default value of regex will change from True to False in a future version. In addition, single character regular expressions will *not* be treated as literal strings when regex=True.\n",
            "  import sys\n",
            "/usr/local/lib/python3.7/dist-packages/ipykernel_launcher.py:8: FutureWarning: The default value of regex will change from True to False in a future version. In addition, single character regular expressions will *not* be treated as literal strings when regex=True.\n",
            "  \n",
            "/usr/local/lib/python3.7/dist-packages/ipykernel_launcher.py:9: FutureWarning: The default value of regex will change from True to False in a future version. In addition, single character regular expressions will *not* be treated as literal strings when regex=True.\n",
            "  if __name__ == '__main__':\n",
            "/usr/local/lib/python3.7/dist-packages/ipykernel_launcher.py:10: FutureWarning: The default value of regex will change from True to False in a future version. In addition, single character regular expressions will *not* be treated as literal strings when regex=True.\n",
            "  # Remove the CWD from sys.path while we load stuff.\n"
          ]
        }
      ],
      "source": [
        "# Removing special characters\n",
        "spec_chars = [\"!\",'\"',\"#\",\"%\",\"&\",\"'\",\"(\",\")\",\n",
        "              \"*\",\"+\",\",\",\"-\",\".\",\"/\",\":\",\";\",\"<\",\n",
        "              \"=\",\">\",\"?\",\"@\",\"[\",\"\\\\\",\"]\",\"^\",\"_\",\n",
        "              \"`\",\"{\",\"|\",\"}\",\"~\",\"–\"]\n",
        "for char in spec_chars:\n",
        "    train_X['title'] = train_X['title'].str.replace(char, ' ')\n",
        "    train_X['text'] = train_X['text'].str.replace(char, ' ')\n",
        "    test_X['title'] = test_X['title'].str.replace(char, ' ')\n",
        "    test_X['text'] = test_X['text'].str.replace(char, ' ')"
      ]
    },
    {
      "cell_type": "code",
      "execution_count": null,
      "metadata": {
        "colab": {
          "base_uri": "https://localhost:8080/",
          "height": 206
        },
        "id": "ECBWCCop2X5z",
        "outputId": "97d0855b-e0af-4dd6-db10-24a50f2547df"
      },
      "outputs": [
        {
          "output_type": "execute_result",
          "data": {
            "text/plain": [
              "                                                   title  \\\n",
              "24871  do you want to save america from hillary  shar...   \n",
              "27532  cnbc debate hack proves allegiance to democrat...   \n",
              "6114   turkey opens military base in mogadishu to tra...   \n",
              "7099          for trump  it was the lost art of the deal   \n",
              "2951   despite vow  trump organization not tracking a...   \n",
              "\n",
              "                                                    text  \n",
              "24871  watch  even her friends on the left appear to ...  \n",
              "27532  by looking at the two democrat presidential ca...  \n",
              "6114   mogadishu ankara  reuters    turkey opened its...  \n",
              "7099   washington  reuters    in the end  the closer ...  \n",
              "2951   washington  reuters    president donald trump’...  "
            ],
            "text/html": [
              "\n",
              "  <div id=\"df-619db272-435a-4d7f-8503-54e4fea02da4\">\n",
              "    <div class=\"colab-df-container\">\n",
              "      <div>\n",
              "<style scoped>\n",
              "    .dataframe tbody tr th:only-of-type {\n",
              "        vertical-align: middle;\n",
              "    }\n",
              "\n",
              "    .dataframe tbody tr th {\n",
              "        vertical-align: top;\n",
              "    }\n",
              "\n",
              "    .dataframe thead th {\n",
              "        text-align: right;\n",
              "    }\n",
              "</style>\n",
              "<table border=\"1\" class=\"dataframe\">\n",
              "  <thead>\n",
              "    <tr style=\"text-align: right;\">\n",
              "      <th></th>\n",
              "      <th>title</th>\n",
              "      <th>text</th>\n",
              "    </tr>\n",
              "  </thead>\n",
              "  <tbody>\n",
              "    <tr>\n",
              "      <th>24871</th>\n",
              "      <td>do you want to save america from hillary  shar...</td>\n",
              "      <td>watch  even her friends on the left appear to ...</td>\n",
              "    </tr>\n",
              "    <tr>\n",
              "      <th>27532</th>\n",
              "      <td>cnbc debate hack proves allegiance to democrat...</td>\n",
              "      <td>by looking at the two democrat presidential ca...</td>\n",
              "    </tr>\n",
              "    <tr>\n",
              "      <th>6114</th>\n",
              "      <td>turkey opens military base in mogadishu to tra...</td>\n",
              "      <td>mogadishu ankara  reuters    turkey opened its...</td>\n",
              "    </tr>\n",
              "    <tr>\n",
              "      <th>7099</th>\n",
              "      <td>for trump  it was the lost art of the deal</td>\n",
              "      <td>washington  reuters    in the end  the closer ...</td>\n",
              "    </tr>\n",
              "    <tr>\n",
              "      <th>2951</th>\n",
              "      <td>despite vow  trump organization not tracking a...</td>\n",
              "      <td>washington  reuters    president donald trump’...</td>\n",
              "    </tr>\n",
              "  </tbody>\n",
              "</table>\n",
              "</div>\n",
              "      <button class=\"colab-df-convert\" onclick=\"convertToInteractive('df-619db272-435a-4d7f-8503-54e4fea02da4')\"\n",
              "              title=\"Convert this dataframe to an interactive table.\"\n",
              "              style=\"display:none;\">\n",
              "        \n",
              "  <svg xmlns=\"http://www.w3.org/2000/svg\" height=\"24px\"viewBox=\"0 0 24 24\"\n",
              "       width=\"24px\">\n",
              "    <path d=\"M0 0h24v24H0V0z\" fill=\"none\"/>\n",
              "    <path d=\"M18.56 5.44l.94 2.06.94-2.06 2.06-.94-2.06-.94-.94-2.06-.94 2.06-2.06.94zm-11 1L8.5 8.5l.94-2.06 2.06-.94-2.06-.94L8.5 2.5l-.94 2.06-2.06.94zm10 10l.94 2.06.94-2.06 2.06-.94-2.06-.94-.94-2.06-.94 2.06-2.06.94z\"/><path d=\"M17.41 7.96l-1.37-1.37c-.4-.4-.92-.59-1.43-.59-.52 0-1.04.2-1.43.59L10.3 9.45l-7.72 7.72c-.78.78-.78 2.05 0 2.83L4 21.41c.39.39.9.59 1.41.59.51 0 1.02-.2 1.41-.59l7.78-7.78 2.81-2.81c.8-.78.8-2.07 0-2.86zM5.41 20L4 18.59l7.72-7.72 1.47 1.35L5.41 20z\"/>\n",
              "  </svg>\n",
              "      </button>\n",
              "      \n",
              "  <style>\n",
              "    .colab-df-container {\n",
              "      display:flex;\n",
              "      flex-wrap:wrap;\n",
              "      gap: 12px;\n",
              "    }\n",
              "\n",
              "    .colab-df-convert {\n",
              "      background-color: #E8F0FE;\n",
              "      border: none;\n",
              "      border-radius: 50%;\n",
              "      cursor: pointer;\n",
              "      display: none;\n",
              "      fill: #1967D2;\n",
              "      height: 32px;\n",
              "      padding: 0 0 0 0;\n",
              "      width: 32px;\n",
              "    }\n",
              "\n",
              "    .colab-df-convert:hover {\n",
              "      background-color: #E2EBFA;\n",
              "      box-shadow: 0px 1px 2px rgba(60, 64, 67, 0.3), 0px 1px 3px 1px rgba(60, 64, 67, 0.15);\n",
              "      fill: #174EA6;\n",
              "    }\n",
              "\n",
              "    [theme=dark] .colab-df-convert {\n",
              "      background-color: #3B4455;\n",
              "      fill: #D2E3FC;\n",
              "    }\n",
              "\n",
              "    [theme=dark] .colab-df-convert:hover {\n",
              "      background-color: #434B5C;\n",
              "      box-shadow: 0px 1px 3px 1px rgba(0, 0, 0, 0.15);\n",
              "      filter: drop-shadow(0px 1px 2px rgba(0, 0, 0, 0.3));\n",
              "      fill: #FFFFFF;\n",
              "    }\n",
              "  </style>\n",
              "\n",
              "      <script>\n",
              "        const buttonEl =\n",
              "          document.querySelector('#df-619db272-435a-4d7f-8503-54e4fea02da4 button.colab-df-convert');\n",
              "        buttonEl.style.display =\n",
              "          google.colab.kernel.accessAllowed ? 'block' : 'none';\n",
              "\n",
              "        async function convertToInteractive(key) {\n",
              "          const element = document.querySelector('#df-619db272-435a-4d7f-8503-54e4fea02da4');\n",
              "          const dataTable =\n",
              "            await google.colab.kernel.invokeFunction('convertToInteractive',\n",
              "                                                     [key], {});\n",
              "          if (!dataTable) return;\n",
              "\n",
              "          const docLinkHtml = 'Like what you see? Visit the ' +\n",
              "            '<a target=\"_blank\" href=https://colab.research.google.com/notebooks/data_table.ipynb>data table notebook</a>'\n",
              "            + ' to learn more about interactive tables.';\n",
              "          element.innerHTML = '';\n",
              "          dataTable['output_type'] = 'display_data';\n",
              "          await google.colab.output.renderOutput(dataTable, element);\n",
              "          const docLink = document.createElement('div');\n",
              "          docLink.innerHTML = docLinkHtml;\n",
              "          element.appendChild(docLink);\n",
              "        }\n",
              "      </script>\n",
              "    </div>\n",
              "  </div>\n",
              "  "
            ]
          },
          "metadata": {},
          "execution_count": 26
        }
      ],
      "source": [
        "# Lower casing all the characters\n",
        "train_X['text']=train_X['text'].str.lower()\n",
        "train_X['title']=train_X['title'].str.lower()\n",
        "test_X['text']=test_X['text'].str.lower()\n",
        "test_X['title']=test_X['title'].str.lower()\n",
        "train_X.head()"
      ]
    },
    {
      "cell_type": "code",
      "source": [
        "train_X[\"clean_text\"] = train_X[\"text\"].astype(str) + train_X[\"title\"]\n",
        "test_X[\"clean_text\"] = test_X[\"text\"].astype(str) + test_X[\"title\"]"
      ],
      "metadata": {
        "id": "1KIkkAqXS00J"
      },
      "execution_count": null,
      "outputs": []
    },
    {
      "cell_type": "code",
      "source": [
        "train_X[\"clean_text\"]"
      ],
      "metadata": {
        "colab": {
          "base_uri": "https://localhost:8080/"
        },
        "id": "VZy0L3zUS_gQ",
        "outputId": "0fc628c0-448e-4968-f240-2551dc9024e4"
      },
      "execution_count": null,
      "outputs": [
        {
          "output_type": "execute_result",
          "data": {
            "text/plain": [
              "24871    watch  even her friends on the left appear to ...\n",
              "27532    by looking at the two democrat presidential ca...\n",
              "6114     mogadishu ankara  reuters    turkey opened its...\n",
              "7099     washington  reuters    in the end  the closer ...\n",
              "2951     washington  reuters    president donald trump’...\n",
              "                               ...                        \n",
              "476      milan brussels  reuters    italian toll road g...\n",
              "342      image caption the order of service gave both d...\n",
              "2913     lawrence thomas officially makes switch to ful...\n",
              "304      by catherine j  frompovich\\non september 13  2...\n",
              "3632     nfl football   miami dolphins vs new orleans s...\n",
              "Name: clean_text, Length: 32767, dtype: object"
            ]
          },
          "metadata": {},
          "execution_count": 28
        }
      ]
    },
    {
      "cell_type": "code",
      "source": [
        "train_X['length'] = train_X['clean_text'].apply(len)\n",
        "plt.figure(figsize=(8,4))\n",
        "sns.histplot(train_X[('length')])"
      ],
      "metadata": {
        "colab": {
          "base_uri": "https://localhost:8080/",
          "height": 297
        },
        "id": "Rq-MawfvTXSd",
        "outputId": "bac1e295-df66-4b67-ec27-cf1808dfde5e"
      },
      "execution_count": null,
      "outputs": [
        {
          "output_type": "execute_result",
          "data": {
            "text/plain": [
              "<matplotlib.axes._subplots.AxesSubplot at 0x7f0e51f64d10>"
            ]
          },
          "metadata": {},
          "execution_count": 29
        },
        {
          "output_type": "display_data",
          "data": {
            "text/plain": [
              "<Figure size 576x288 with 1 Axes>"
            ],
            "image/png": "[encoded data removed]"
          },
          "metadata": {
            "needs_background": "light"
          }
        }
      ]
    },
    {
      "cell_type": "markdown",
      "source": [
        "## Vectorising the corpus"
      ],
      "metadata": {
        "id": "23nkcNY7TVV7"
      }
    },
    {
      "cell_type": "code",
      "source": [
        "# Vectorising the corpus\n",
        "vectorizer = TextVectorization(max_tokens=2000, output_sequence_length=300)\n",
        "sliced_corpus = Dataset.from_tensor_slices(train_X['clean_text']).batch(128)\n",
        "vectorizer.adapt(sliced_corpus)"
      ],
      "metadata": {
        "id": "OG4BoLifSrG7"
      },
      "execution_count": null,
      "outputs": []
    },
    {
      "cell_type": "code",
      "source": [
        "vocubalory = vectorizer.get_vocabulary()\n",
        "word_index = dict(zip(vocubalory, range(len(vocubalory))))"
      ],
      "metadata": {
        "id": "fv3SQiKZVcNy"
      },
      "execution_count": null,
      "outputs": []
    },
    {
      "cell_type": "markdown",
      "source": [
        "## Importing GloVe & Word Embedding"
      ],
      "metadata": {
        "id": "9kCnbQ6QVgtd"
      }
    },
    {
      "cell_type": "code",
      "source": [
        "# Generating the indexing array from the pretrain Glove model\n",
        "embeddings_index = {}\n",
        "with open('glove.6B.100d.txt') as f:\n",
        "    for line in f:\n",
        "        word, vals = line.split(maxsplit=1)\n",
        "        vals = np.fromstring(vals, \"f\", sep=\" \")\n",
        "        embeddings_index[word] = vals"
      ],
      "metadata": {
        "id": "jk6ECpl9VhWq"
      },
      "execution_count": null,
      "outputs": []
    },
    {
      "cell_type": "code",
      "source": [
        "# Required variables for the generating embedding matrix\n",
        "num_tokens = len(vocubalory) + 2\n",
        "embedding_dim = 100\n",
        "hits = 0\n",
        "misses = 0\n",
        "\n",
        "# Preparing embedding matrix\n",
        "embedding_matrix = np.zeros((num_tokens, embedding_dim))\n",
        "\n",
        "for word, i in word_index.items():\n",
        "    embedding_vector = embeddings_index.get(word)\n",
        "    if embedding_vector is not None:\n",
        "        embedding_matrix[i] = embedding_vector\n",
        "        hits += 1\n",
        "    else:\n",
        "        misses += 1"
      ],
      "metadata": {
        "id": "zQH7BCgIWZaL"
      },
      "execution_count": null,
      "outputs": []
    },
    {
      "cell_type": "code",
      "source": [
        "# Generating the embedding layer\n",
        "embedding_layer = Embedding(\n",
        "    num_tokens,\n",
        "    embedding_dim,\n",
        "    embeddings_initializer=tf.keras.initializers.Constant(embedding_matrix),\n",
        "    trainable=False,\n",
        ")"
      ],
      "metadata": {
        "id": "kCzmtCFzWbwL"
      },
      "execution_count": null,
      "outputs": []
    },
    {
      "cell_type": "markdown",
      "source": [
        "# CNN based model\n",
        "\n",
        "\n",
        "\n"
      ],
      "metadata": {
        "id": "nehvfEKZvjXF"
      }
    },
    {
      "cell_type": "code",
      "execution_count": null,
      "metadata": {
        "id": "I6ZOJUMs4yyQ",
        "colab": {
          "base_uri": "https://localhost:8080/"
        },
        "outputId": "4aa7233c-c6c7-49f7-8545-a79e20b2a8c7"
      },
      "outputs": [
        {
          "output_type": "stream",
          "name": "stdout",
          "text": [
            "Model: \"model_4\"\n",
            "_________________________________________________________________\n",
            " Layer (type)                Output Shape              Param #   \n",
            "=================================================================\n",
            " input_5 (InputLayer)        [(None, None)]            0         \n",
            "                                                                 \n",
            " embedding (Embedding)       (None, None, 100)         200200    \n",
            "                                                                 \n",
            " conv1d_12 (Conv1D)          (None, None, 256)         128256    \n",
            "                                                                 \n",
            " max_pooling1d_8 (MaxPooling  (None, None, 256)        0         \n",
            " 1D)                                                             \n",
            "                                                                 \n",
            " dropout_12 (Dropout)        (None, None, 256)         0         \n",
            "                                                                 \n",
            " conv1d_13 (Conv1D)          (None, None, 256)         327936    \n",
            "                                                                 \n",
            " max_pooling1d_9 (MaxPooling  (None, None, 256)        0         \n",
            " 1D)                                                             \n",
            "                                                                 \n",
            " dropout_13 (Dropout)        (None, None, 256)         0         \n",
            "                                                                 \n",
            " conv1d_14 (Conv1D)          (None, None, 128)         163968    \n",
            "                                                                 \n",
            " global_max_pooling1d_4 (Glo  (None, 128)              0         \n",
            " balMaxPooling1D)                                                \n",
            "                                                                 \n",
            " dropout_14 (Dropout)        (None, 128)               0         \n",
            "                                                                 \n",
            " dense_19 (Dense)            (None, 128)               16512     \n",
            "                                                                 \n",
            " dense_20 (Dense)            (None, 64)                8256      \n",
            "                                                                 \n",
            " dense_21 (Dense)            (None, 32)                2080      \n",
            "                                                                 \n",
            " dense_22 (Dense)            (None, 2)                 66        \n",
            "                                                                 \n",
            "=================================================================\n",
            "Total params: 847,274\n",
            "Trainable params: 647,074\n",
            "Non-trainable params: 200,200\n",
            "_________________________________________________________________\n"
          ]
        }
      ],
      "source": [
        "# Model Definition\n",
        "input_seq = Input(shape=(None,), dtype=\"int64\")\n",
        "embedded_seq = embedding_layer(input_seq)\n",
        "x = Conv1D(256, 5, activation=\"relu\")(embedded_seq)\n",
        "x = MaxPooling1D(5)(x)\n",
        "x = Dropout(0.5)(x)\n",
        "x = Conv1D(256, 5, activation=\"relu\")(x)\n",
        "x = MaxPooling1D(4)(x)\n",
        "x = Dropout(0.5)(x)\n",
        "x = Conv1D(128, 5, activation=\"relu\")(x)\n",
        "x = GlobalMaxPooling1D()(x)\n",
        "x = Dropout(0.5)(x)\n",
        "x = Dense(128, activation=\"relu\")(x)\n",
        "x = Dense(64, activation=\"relu\")(x)\n",
        "x = Dense(32, activation=\"relu\")(x)\n",
        "output = Dense(2)(x)\n",
        "\n",
        "model = Model(input_seq, output)\n",
        "model.summary()\n",
        "\n",
        "model.compile(optimizer='adam', loss=tf.losses.SparseCategoricalCrossentropy(from_logits=True), metrics= ['acc'])"
      ]
    },
    {
      "cell_type": "code",
      "source": [
        "tf.keras.utils.plot_model(model, show_shapes=True)"
      ],
      "metadata": {
        "colab": {
          "base_uri": "https://localhost:8080/",
          "height": 1000
        },
        "id": "7LNZAgQjtUDc",
        "outputId": "38c24d60-4ffa-4cd5-9127-f5bf930668ca"
      },
      "execution_count": null,
      "outputs": [
        {
          "output_type": "execute_result",
          "data": {
            "text/plain": [
              "<IPython.core.display.Image object>"
            ],
            "image/png": "[encoded data removed]"
          },
          "metadata": {},
          "execution_count": 91
        }
      ]
    },
    {
      "cell_type": "code",
      "source": [
        "x_train = vectorizer(np.array([[s] for s in train_X[\"clean_text\"]])).numpy()\n",
        "y_train = np.array(train_Y)"
      ],
      "metadata": {
        "id": "6YUBiLHeX0pj"
      },
      "execution_count": null,
      "outputs": []
    },
    {
      "cell_type": "code",
      "execution_count": null,
      "metadata": {
        "id": "LuCI05cU44di",
        "colab": {
          "base_uri": "https://localhost:8080/"
        },
        "outputId": "2805c252-0c41-469d-8018-ecd8a017e230"
      },
      "outputs": [
        {
          "output_type": "stream",
          "name": "stdout",
          "text": [
            "Epoch 1/50\n",
            "820/820 [==============================] - 6s 7ms/step - loss: 0.2018 - acc: 0.8972 - val_loss: 0.4661 - val_acc: 0.8767\n",
            "Epoch 2/50\n",
            "820/820 [==============================] - 6s 7ms/step - loss: 0.0218 - acc: 0.9949 - val_loss: 0.9032 - val_acc: 0.8749\n",
            "Epoch 3/50\n",
            "820/820 [==============================] - 6s 7ms/step - loss: 0.0137 - acc: 0.9964 - val_loss: 0.5368 - val_acc: 0.8843\n",
            "Epoch 4/50\n",
            "820/820 [==============================] - 6s 7ms/step - loss: 0.0132 - acc: 0.9968 - val_loss: 1.0878 - val_acc: 0.8750\n",
            "Epoch 5/50\n",
            "820/820 [==============================] - 6s 7ms/step - loss: 0.0136 - acc: 0.9966 - val_loss: 0.6787 - val_acc: 0.8749\n",
            "Epoch 6/50\n",
            "820/820 [==============================] - 6s 7ms/step - loss: 0.0133 - acc: 0.9966 - val_loss: 0.9112 - val_acc: 0.8819\n",
            "Epoch 7/50\n",
            "820/820 [==============================] - 6s 7ms/step - loss: 0.0086 - acc: 0.9978 - val_loss: 0.8530 - val_acc: 0.8845\n",
            "Epoch 8/50\n",
            "820/820 [==============================] - 6s 7ms/step - loss: 0.0090 - acc: 0.9977 - val_loss: 1.1935 - val_acc: 0.8837\n",
            "Epoch 9/50\n",
            "820/820 [==============================] - 6s 7ms/step - loss: 0.0105 - acc: 0.9978 - val_loss: 0.4496 - val_acc: 0.8804\n",
            "Epoch 10/50\n",
            "820/820 [==============================] - 6s 7ms/step - loss: 0.0082 - acc: 0.9979 - val_loss: 1.1935 - val_acc: 0.8770\n",
            "Epoch 11/50\n",
            "820/820 [==============================] - 6s 7ms/step - loss: 0.0074 - acc: 0.9982 - val_loss: 0.8047 - val_acc: 0.8827\n",
            "Epoch 12/50\n",
            "820/820 [==============================] - 6s 7ms/step - loss: 0.0096 - acc: 0.9981 - val_loss: 0.6110 - val_acc: 0.8790\n",
            "Epoch 13/50\n",
            "820/820 [==============================] - 6s 7ms/step - loss: 0.0089 - acc: 0.9980 - val_loss: 0.7154 - val_acc: 0.8842\n",
            "Epoch 14/50\n",
            "820/820 [==============================] - 6s 7ms/step - loss: 0.0086 - acc: 0.9983 - val_loss: 1.1104 - val_acc: 0.8816\n",
            "Epoch 15/50\n",
            "820/820 [==============================] - 6s 7ms/step - loss: 0.0083 - acc: 0.9981 - val_loss: 2.0122 - val_acc: 0.8821\n",
            "Epoch 16/50\n",
            "820/820 [==============================] - 6s 7ms/step - loss: 0.0104 - acc: 0.9983 - val_loss: 0.7962 - val_acc: 0.8770\n",
            "Epoch 17/50\n",
            "820/820 [==============================] - 6s 7ms/step - loss: 0.0086 - acc: 0.9984 - val_loss: 0.9584 - val_acc: 0.8828\n",
            "Epoch 18/50\n",
            "820/820 [==============================] - 6s 7ms/step - loss: 0.0065 - acc: 0.9987 - val_loss: 0.8275 - val_acc: 0.8840\n",
            "Epoch 19/50\n",
            "820/820 [==============================] - 6s 7ms/step - loss: 0.0064 - acc: 0.9987 - val_loss: 0.9057 - val_acc: 0.8843\n",
            "Epoch 20/50\n",
            "820/820 [==============================] - 6s 7ms/step - loss: 0.0044 - acc: 0.9989 - val_loss: 0.6384 - val_acc: 0.8816\n",
            "Epoch 21/50\n",
            "820/820 [==============================] - 6s 7ms/step - loss: 0.0057 - acc: 0.9990 - val_loss: 0.9003 - val_acc: 0.8814\n",
            "Epoch 22/50\n",
            "820/820 [==============================] - 6s 7ms/step - loss: 0.0088 - acc: 0.9983 - val_loss: 1.6249 - val_acc: 0.8825\n",
            "Epoch 23/50\n",
            "820/820 [==============================] - 6s 7ms/step - loss: 0.0048 - acc: 0.9989 - val_loss: 0.8918 - val_acc: 0.8811\n",
            "Epoch 24/50\n",
            "820/820 [==============================] - 6s 7ms/step - loss: 0.0065 - acc: 0.9989 - val_loss: 1.9685 - val_acc: 0.8778\n",
            "Epoch 25/50\n",
            "820/820 [==============================] - 6s 7ms/step - loss: 0.0046 - acc: 0.9987 - val_loss: 1.5604 - val_acc: 0.8828\n",
            "Epoch 26/50\n",
            "820/820 [==============================] - 6s 7ms/step - loss: 0.0046 - acc: 0.9989 - val_loss: 2.2532 - val_acc: 0.8854\n",
            "Epoch 27/50\n",
            "820/820 [==============================] - 6s 7ms/step - loss: 0.0026 - acc: 0.9991 - val_loss: 1.0750 - val_acc: 0.8750\n",
            "Epoch 28/50\n",
            "820/820 [==============================] - 6s 7ms/step - loss: 0.0052 - acc: 0.9989 - val_loss: 1.4102 - val_acc: 0.8827\n",
            "Epoch 29/50\n",
            "820/820 [==============================] - 6s 7ms/step - loss: 0.0038 - acc: 0.9990 - val_loss: 0.5254 - val_acc: 0.8866\n",
            "Epoch 29: early stopping\n"
          ]
        }
      ],
      "source": [
        "callbacks = [EarlyStopping(monitor = 'val_loss', patience=20, verbose=1, mode = 'min')]\n",
        "history = model.fit(x_train, y_train, epochs = 50, validation_split=0.2, callbacks=[callbacks])"
      ]
    },
    {
      "cell_type": "markdown",
      "source": [
        "## Evaluating the results"
      ],
      "metadata": {
        "id": "MBVdi006ZUAl"
      }
    },
    {
      "cell_type": "code",
      "source": [
        "# summarizing history for loss for new model\n",
        "plt.plot(history.history['loss'])\n",
        "plt.plot(history.history['val_loss'])\n",
        "plt.title('model loss')\n",
        "plt.ylabel('loss')\n",
        "plt.xlabel('epoch')\n",
        "plt.legend(['train', 'validation'], loc='upper left')\n",
        "plt.show()"
      ],
      "metadata": {
        "colab": {
          "base_uri": "https://localhost:8080/",
          "height": 295
        },
        "id": "VRAUUoGGZWx6",
        "outputId": "50101fa2-e132-48b3-d68f-957c16c02b6d"
      },
      "execution_count": null,
      "outputs": [
        {
          "output_type": "display_data",
          "data": {
            "text/plain": [
              "<Figure size 432x288 with 1 Axes>"
            ],
            "image/png": "[encoded data removed]"
          },
          "metadata": {
            "needs_background": "light"
          }
        }
      ]
    },
    {
      "cell_type": "code",
      "source": [
        "x_test = vectorizer(np.array([[s] for s in test_X[\"clean_text\"]])).numpy()\n",
        "y_test = np.array(test_Y)"
      ],
      "metadata": {
        "id": "GQVD668LZgJZ"
      },
      "execution_count": null,
      "outputs": []
    },
    {
      "cell_type": "code",
      "source": [
        "pred = model.predict(x_test)\n",
        "y_classes = pred.argmax(axis=-1)"
      ],
      "metadata": {
        "id": "7z_9TP5kZpo9"
      },
      "execution_count": null,
      "outputs": []
    },
    {
      "cell_type": "code",
      "source": [
        "print(cr(y_test, y_classes, target_names=['fake','true']))"
      ],
      "metadata": {
        "colab": {
          "base_uri": "https://localhost:8080/"
        },
        "id": "Dq-a_uJ9Z0MO",
        "outputId": "637e9ee6-aa7f-4186-c8e3-75a5564c8c51"
      },
      "execution_count": null,
      "outputs": [
        {
          "output_type": "stream",
          "name": "stdout",
          "text": [
            "              precision    recall  f1-score   support\n",
            "\n",
            "        fake       0.96      0.99      0.98      8491\n",
            "        true       0.99      0.95      0.97      7649\n",
            "\n",
            "    accuracy                           0.97     16140\n",
            "   macro avg       0.97      0.97      0.97     16140\n",
            "weighted avg       0.97      0.97      0.97     16140\n",
            "\n"
          ]
        }
      ]
    },
    {
      "cell_type": "code",
      "source": [
        "cm2 = cm(y_test, y_classes, labels=[0, 1])\n",
        "df_cm = pd.DataFrame(cm2, range(2), range(2))\n",
        "sn.set(font_scale=1)\n",
        "sn.heatmap(df_cm, annot=True, annot_kws={'size':14}, fmt='d').set_title('Confusion Matrix')"
      ],
      "metadata": {
        "colab": {
          "base_uri": "https://localhost:8080/",
          "height": 302
        },
        "id": "y_cqJ8hRtlYC",
        "outputId": "7396fc41-1692-49b9-e410-8590d133feba"
      },
      "execution_count": null,
      "outputs": [
        {
          "output_type": "execute_result",
          "data": {
            "text/plain": [
              "Text(0.5, 1.0, 'Confusion Matrix')"
            ]
          },
          "metadata": {},
          "execution_count": 97
        },
        {
          "output_type": "display_data",
          "data": {
            "text/plain": [
              "<Figure size 432x288 with 2 Axes>"
            ],
            "image/png": "[encoded data removed]"
          },
          "metadata": {}
        }
      ]
    },
    {
      "cell_type": "markdown",
      "source": [
        "## Save and generate a TensorFlow JS model"
      ],
      "metadata": {
        "id": "zGJo0Q-Mhqyt"
      }
    },
    {
      "cell_type": "code",
      "source": [
        "model.save(\"rm.h5\")\n",
        "!pip install tensorflowjs\n",
        "!tensorflowjs_converter --input_format=keras rm.h5 ./jsweights\n",
        "# The JSON file inside the ./jsweights is to be used in BE"
      ],
      "metadata": {
        "colab": {
          "base_uri": "https://localhost:8080/"
        },
        "id": "XlHF1x2khu4d",
        "outputId": "4bdaf367-7092-4248-dd0d-8e4893fb0a05"
      },
      "execution_count": null,
      "outputs": [
        {
          "output_type": "stream",
          "name": "stdout",
          "text": [
            "Requirement already satisfied: tensorflowjs in /usr/local/lib/python3.7/dist-packages (3.15.0)\n",
            "Requirement already satisfied: tensorflow-hub<0.13,>=0.7.0 in /usr/local/lib/python3.7/dist-packages (from tensorflowjs) (0.12.0)\n",
            "Requirement already satisfied: tensorflow<3,>=2.1.0 in /usr/local/lib/python3.7/dist-packages (from tensorflowjs) (2.8.0)\n",
            "Requirement already satisfied: six<2,>=1.12.0 in /usr/local/lib/python3.7/dist-packages (from tensorflowjs) (1.15.0)\n",
            "Requirement already satisfied: gast>=0.2.1 in /usr/local/lib/python3.7/dist-packages (from tensorflow<3,>=2.1.0->tensorflowjs) (0.5.3)\n",
            "Requirement already satisfied: protobuf>=3.9.2 in /usr/local/lib/python3.7/dist-packages (from tensorflow<3,>=2.1.0->tensorflowjs) (3.17.3)\n",
            "Requirement already satisfied: grpcio<2.0,>=1.24.3 in /usr/local/lib/python3.7/dist-packages (from tensorflow<3,>=2.1.0->tensorflowjs) (1.44.0)\n",
            "Requirement already satisfied: tensorboard<2.9,>=2.8 in /usr/local/lib/python3.7/dist-packages (from tensorflow<3,>=2.1.0->tensorflowjs) (2.8.0)\n",
            "Requirement already satisfied: flatbuffers>=1.12 in /usr/local/lib/python3.7/dist-packages (from tensorflow<3,>=2.1.0->tensorflowjs) (2.0)\n",
            "Requirement already satisfied: google-pasta>=0.1.1 in /usr/local/lib/python3.7/dist-packages (from tensorflow<3,>=2.1.0->tensorflowjs) (0.2.0)\n",
            "Requirement already satisfied: typing-extensions>=3.6.6 in /usr/local/lib/python3.7/dist-packages (from tensorflow<3,>=2.1.0->tensorflowjs) (3.10.0.2)\n",
            "Requirement already satisfied: tf-estimator-nightly==2.8.0.dev2021122109 in /usr/local/lib/python3.7/dist-packages (from tensorflow<3,>=2.1.0->tensorflowjs) (2.8.0.dev2021122109)\n",
            "Requirement already satisfied: setuptools in /usr/local/lib/python3.7/dist-packages (from tensorflow<3,>=2.1.0->tensorflowjs) (57.4.0)\n",
            "Requirement already satisfied: termcolor>=1.1.0 in /usr/local/lib/python3.7/dist-packages (from tensorflow<3,>=2.1.0->tensorflowjs) (1.1.0)\n",
            "Requirement already satisfied: h5py>=2.9.0 in /usr/local/lib/python3.7/dist-packages (from tensorflow<3,>=2.1.0->tensorflowjs) (3.1.0)\n",
            "Requirement already satisfied: keras-preprocessing>=1.1.1 in /usr/local/lib/python3.7/dist-packages (from tensorflow<3,>=2.1.0->tensorflowjs) (1.1.2)\n",
            "Requirement already satisfied: keras<2.9,>=2.8.0rc0 in /usr/local/lib/python3.7/dist-packages (from tensorflow<3,>=2.1.0->tensorflowjs) (2.8.0)\n",
            "Requirement already satisfied: wrapt>=1.11.0 in /usr/local/lib/python3.7/dist-packages (from tensorflow<3,>=2.1.0->tensorflowjs) (1.14.0)\n",
            "Requirement already satisfied: libclang>=9.0.1 in /usr/local/lib/python3.7/dist-packages (from tensorflow<3,>=2.1.0->tensorflowjs) (13.0.0)\n",
            "Requirement already satisfied: tensorflow-io-gcs-filesystem>=0.23.1 in /usr/local/lib/python3.7/dist-packages (from tensorflow<3,>=2.1.0->tensorflowjs) (0.24.0)\n",
            "Requirement already satisfied: absl-py>=0.4.0 in /usr/local/lib/python3.7/dist-packages (from tensorflow<3,>=2.1.0->tensorflowjs) (1.0.0)\n",
            "Requirement already satisfied: astunparse>=1.6.0 in /usr/local/lib/python3.7/dist-packages (from tensorflow<3,>=2.1.0->tensorflowjs) (1.6.3)\n",
            "Requirement already satisfied: numpy>=1.20 in /usr/local/lib/python3.7/dist-packages (from tensorflow<3,>=2.1.0->tensorflowjs) (1.21.5)\n",
            "Requirement already satisfied: opt-einsum>=2.3.2 in /usr/local/lib/python3.7/dist-packages (from tensorflow<3,>=2.1.0->tensorflowjs) (3.3.0)\n",
            "Requirement already satisfied: wheel<1.0,>=0.23.0 in /usr/local/lib/python3.7/dist-packages (from astunparse>=1.6.0->tensorflow<3,>=2.1.0->tensorflowjs) (0.37.1)\n",
            "Requirement already satisfied: cached-property in /usr/local/lib/python3.7/dist-packages (from h5py>=2.9.0->tensorflow<3,>=2.1.0->tensorflowjs) (1.5.2)\n",
            "Requirement already satisfied: google-auth-oauthlib<0.5,>=0.4.1 in /usr/local/lib/python3.7/dist-packages (from tensorboard<2.9,>=2.8->tensorflow<3,>=2.1.0->tensorflowjs) (0.4.6)\n",
            "Requirement already satisfied: tensorboard-plugin-wit>=1.6.0 in /usr/local/lib/python3.7/dist-packages (from tensorboard<2.9,>=2.8->tensorflow<3,>=2.1.0->tensorflowjs) (1.8.1)\n",
            "Requirement already satisfied: requests<3,>=2.21.0 in /usr/local/lib/python3.7/dist-packages (from tensorboard<2.9,>=2.8->tensorflow<3,>=2.1.0->tensorflowjs) (2.23.0)\n",
            "Requirement already satisfied: markdown>=2.6.8 in /usr/local/lib/python3.7/dist-packages (from tensorboard<2.9,>=2.8->tensorflow<3,>=2.1.0->tensorflowjs) (3.3.6)\n",
            "Requirement already satisfied: werkzeug>=0.11.15 in /usr/local/lib/python3.7/dist-packages (from tensorboard<2.9,>=2.8->tensorflow<3,>=2.1.0->tensorflowjs) (1.0.1)\n",
            "Requirement already satisfied: google-auth<3,>=1.6.3 in /usr/local/lib/python3.7/dist-packages (from tensorboard<2.9,>=2.8->tensorflow<3,>=2.1.0->tensorflowjs) (1.35.0)\n",
            "Requirement already satisfied: tensorboard-data-server<0.7.0,>=0.6.0 in /usr/local/lib/python3.7/dist-packages (from tensorboard<2.9,>=2.8->tensorflow<3,>=2.1.0->tensorflowjs) (0.6.1)\n",
            "Requirement already satisfied: rsa<5,>=3.1.4 in /usr/local/lib/python3.7/dist-packages (from google-auth<3,>=1.6.3->tensorboard<2.9,>=2.8->tensorflow<3,>=2.1.0->tensorflowjs) (4.8)\n",
            "Requirement already satisfied: cachetools<5.0,>=2.0.0 in /usr/local/lib/python3.7/dist-packages (from google-auth<3,>=1.6.3->tensorboard<2.9,>=2.8->tensorflow<3,>=2.1.0->tensorflowjs) (4.2.4)\n",
            "Requirement already satisfied: pyasn1-modules>=0.2.1 in /usr/local/lib/python3.7/dist-packages (from google-auth<3,>=1.6.3->tensorboard<2.9,>=2.8->tensorflow<3,>=2.1.0->tensorflowjs) (0.2.8)\n",
            "Requirement already satisfied: requests-oauthlib>=0.7.0 in /usr/local/lib/python3.7/dist-packages (from google-auth-oauthlib<0.5,>=0.4.1->tensorboard<2.9,>=2.8->tensorflow<3,>=2.1.0->tensorflowjs) (1.3.1)\n",
            "Requirement already satisfied: importlib-metadata>=4.4 in /usr/local/lib/python3.7/dist-packages (from markdown>=2.6.8->tensorboard<2.9,>=2.8->tensorflow<3,>=2.1.0->tensorflowjs) (4.11.3)\n",
            "Requirement already satisfied: zipp>=0.5 in /usr/local/lib/python3.7/dist-packages (from importlib-metadata>=4.4->markdown>=2.6.8->tensorboard<2.9,>=2.8->tensorflow<3,>=2.1.0->tensorflowjs) (3.7.0)\n",
            "Requirement already satisfied: pyasn1<0.5.0,>=0.4.6 in /usr/local/lib/python3.7/dist-packages (from pyasn1-modules>=0.2.1->google-auth<3,>=1.6.3->tensorboard<2.9,>=2.8->tensorflow<3,>=2.1.0->tensorflowjs) (0.4.8)\n",
            "Requirement already satisfied: certifi>=2017.4.17 in /usr/local/lib/python3.7/dist-packages (from requests<3,>=2.21.0->tensorboard<2.9,>=2.8->tensorflow<3,>=2.1.0->tensorflowjs) (2021.10.8)\n",
            "Requirement already satisfied: urllib3!=1.25.0,!=1.25.1,<1.26,>=1.21.1 in /usr/local/lib/python3.7/dist-packages (from requests<3,>=2.21.0->tensorboard<2.9,>=2.8->tensorflow<3,>=2.1.0->tensorflowjs) (1.24.3)\n",
            "Requirement already satisfied: chardet<4,>=3.0.2 in /usr/local/lib/python3.7/dist-packages (from requests<3,>=2.21.0->tensorboard<2.9,>=2.8->tensorflow<3,>=2.1.0->tensorflowjs) (3.0.4)\n",
            "Requirement already satisfied: idna<3,>=2.5 in /usr/local/lib/python3.7/dist-packages (from requests<3,>=2.21.0->tensorboard<2.9,>=2.8->tensorflow<3,>=2.1.0->tensorflowjs) (2.10)\n",
            "Requirement already satisfied: oauthlib>=3.0.0 in /usr/local/lib/python3.7/dist-packages (from requests-oauthlib>=0.7.0->google-auth-oauthlib<0.5,>=0.4.1->tensorboard<2.9,>=2.8->tensorflow<3,>=2.1.0->tensorflowjs) (3.2.0)\n"
          ]
        }
      ]
    },
    {
      "cell_type": "markdown",
      "source": [
        "# XGBoost model"
      ],
      "metadata": {
        "id": "d41L901lmogJ"
      }
    },
    {
      "cell_type": "code",
      "source": [
        "xgb = XGBRegressor(n_estimators=120, leanring_rate=0.075)\n",
        "xgb.fit(x_train, y_train)\n",
        "#xgb.fit(X_train, y_train, early_stopping_rounds=10, eval_set=[(X_test, y_test)], verbose=False)\n",
        "\n",
        "predicted1 = xgb.predict(x_test)\n",
        "score1 = accuracy_score(y_test, (predicted1 > 0.5))\n",
        "print('Accuracy Score on XGBoost: \\n', (100*score1))\n",
        "cm2 = cm(y_test, predicted1 > 0.5, labels=[0, 1])\n",
        "df_cm = pd.DataFrame(cm2, range(2), range(2))\n",
        "sn.set(font_scale=1)\n",
        "sn.heatmap(df_cm, annot=True, annot_kws={'size':14}, fmt='d').set_title('Confusion Matrix')\n",
        "print('\\nClassification Report: \\n', cr(y_test, (predicted1 > 0.5)))"
      ],
      "metadata": {
        "colab": {
          "base_uri": "https://localhost:8080/",
          "height": 554
        },
        "id": "5Puwxjw3msqT",
        "outputId": "bd631965-9eb6-476d-c034-565a9ef07021"
      },
      "execution_count": null,
      "outputs": [
        {
          "output_type": "stream",
          "name": "stdout",
          "text": [
            "[21:25:36] WARNING: /workspace/src/objective/regression_obj.cu:152: reg:linear is now deprecated in favor of reg:squarederror.\n",
            "Accuracy Score on XGBoost: \n",
            " 95.96654275092938\n",
            "\n",
            "Classification Report: \n",
            "               precision    recall  f1-score   support\n",
            "\n",
            "           0       0.93      1.00      0.96      8491\n",
            "           1       1.00      0.92      0.96      7649\n",
            "\n",
            "    accuracy                           0.96     16140\n",
            "   macro avg       0.96      0.96      0.96     16140\n",
            "weighted avg       0.96      0.96      0.96     16140\n",
            "\n"
          ]
        },
        {
          "output_type": "display_data",
          "data": {
            "text/plain": [
              "<Figure size 432x288 with 2 Axes>"
            ],
            "image/png": "[encoded data removed]"
          },
          "metadata": {}
        }
      ]
    },
    {
      "cell_type": "markdown",
      "source": [
        "# References\n",
        "\n",
        "[1] Fake news database - build a system to identify unreliable news articles. https://www.kaggle.com/c/fake-news\n",
        "\n",
        "[2] Iftikhar Ahmad, Muhammad Yousaf, Suhail Yousaf, and Muham-\n",
        "mad Ovais Ahmad. Fake news detection using machine learning\n",
        "ensemble methods. Complexity, 2020:1–11, October 2020. https://doi.org/10.1155/2020/8885861\n",
        "\n",
        "[3] Hadeer Ahmed, Issa Traore, and Sherif Saad. Detecting opinion spams\n",
        "and fake news using text classification. Security and Privacy, 1(1):e9,\n",
        "December 2017. https://doi.org/10.1002/spy2.9\n",
        "\n",
        "[4] Hadeer Ahmed, Issa Traor ́e, and Sherif Saad. Detection of online fake\n",
        "news using n-gram analysis and machine learning techniques. In ISDDC,\n",
        "2017.\n",
        "\n",
        "[5] Hunt Allcott and Matthew Gentzkow. Social media and fake news in the\n",
        "2016 election. Journal of Economic Perspectives, 31(2):211–36, May\n",
        "2017. https://doi.org/10.3386/w23089\n",
        "\n",
        "[6] Jacob Devlin, Ming-Wei Chang, Kenton Lee, and Kristina Toutanova.\n",
        "Bert: Pre-training of deep bidirectional transformers for language un-\n",
        "derstanding, 2018. https://arxiv.org/abs/1810.04805\n",
        "\n",
        "[7] jruvika. Fake news detection. https://www.kaggle.com/jruvika/fake-news-detection\n",
        "\n",
        "[8] Heejung Jwa, Dongsuk Oh, Kinam Park, Jang Kang, and Hueiseok Lim.\n",
        "exBAKE: Automatic fake news detection model based on bidirectional\n",
        "encoder representations from transformers (BERT). Applied Sciences,\n",
        "9(19):4062, September 2019. https://doi.org/10.3390/app9194062\n",
        "\n",
        "[9] Rohit Kumar Kaliyar, Anurag Goswami, and Pratik Narang. FakeBERT:\n",
        "Fake news detection in social media with a BERT-based deep learning\n",
        "approach. Multimedia Tools and Applications, 80(8):11765–11788,\n",
        "January 2021. https://doi.org/10.1007/s11042-020-10183-2\n",
        "\n",
        "[10] Muhammad Umer, Zainab Imtiaz, Saleem Ullah, Arif Mehmood,\n",
        "Gyu Sang Choi, and Byung-Won On. Fake news stance detection\n",
        "using deep learning architecture (CNN-LSTM). IEEE Access, 8:156695–\n",
        "156706, 2020. https://doi.org/10.1109/access.2020.3019735\n",
        "\n",
        "[11] Sander van der Linden, Jon Roozenbeek, and Josh Compton. Inoculating\n",
        "against fake news about COVID-19. Frontiers in Psychology, 11,\n",
        "October 2020. https://doi.org/10.3389/fpsyg.2020.566790\n",
        "\n",
        "[12] Wenjun Liao. Stance detection in fake news: An approach based on\n",
        "deep ensemble learning. 2018. http://rgdoi.net/10.13140/RG.2.2.33738.82886\n",
        "\n",
        "[13] Sean Baird Yuxi Pan, Doug Sibley. Talos targets disinformation with\n",
        "fake news challenge victory. https://blog.talosintelligence.com/2017/06/talos-fake-news-challenge.html\n",
        "\n",
        "\n"
      ],
      "metadata": {
        "id": "UDqfTzFeBxDJ"
      }
    }
  ],
  "metadata": {
    "colab": {
      "collapsed_sections": [
        "Dhb3D71g2kHs",
        "0kxk77MH2oQ9",
        "kQNiUNVg2rXZ",
        "QYybjoSQ2v8H",
        "YiOsDakO21qA",
        "7obx9n8M264_",
        "3BshZ3zj4-0F",
        "OwRrIyQi5bxR",
        "cVlQPZG86jkx",
        "LX_-aPBJ6nqf",
        "23nkcNY7TVV7",
        "9kCnbQ6QVgtd"
      ],
      "provenance": [],
      "machine_shape": "hm"
    },
    "kernelspec": {
      "display_name": "Python 3",
      "name": "python3"
    },
    "language_info": {
      "name": "python"
    },
    "accelerator": "GPU"
  },
  "nbformat": 4,
  "nbformat_minor": 0
}